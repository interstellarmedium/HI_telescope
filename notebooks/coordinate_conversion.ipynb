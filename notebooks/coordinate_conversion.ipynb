{
 "cells": [
  {
   "cell_type": "code",
   "execution_count": 1,
   "metadata": {},
   "outputs": [],
   "source": [
    "from astropy import units as u\n",
    "from astropy.time import Time\n",
    "from astropy.coordinates import SkyCoord, EarthLocation, AltAz, get_sun"
   ]
  },
  {
   "cell_type": "code",
   "execution_count": 2,
   "metadata": {},
   "outputs": [],
   "source": [
    "here = EarthLocation(lat=21.3036944*u.deg, lon=-157.8116667*u.deg, height=372*u.m)\n",
    "now = '2022-01-7 21:00'"
   ]
  },
  {
   "cell_type": "code",
   "execution_count": 3,
   "metadata": {},
   "outputs": [
    {
     "name": "stdout",
     "output_type": "stream",
     "text": [
      "l =  85.2 deg, b =  2.3 deg\n"
     ]
    }
   ],
   "source": [
    "alt = 45\n",
    "az = 45\n",
    "c = SkyCoord(alt=alt, az=az, frame='altaz', unit='deg', obstime=Time(now, scale='utc'), location=here)\n",
    "gal = c.galactic\n",
    "print('l = {0:5.1f}, b = {1:4.1f}'.format(gal.l, gal.b))"
   ]
  },
  {
   "cell_type": "code",
   "execution_count": 4,
   "metadata": {},
   "outputs": [
    {
     "name": "stdout",
     "output_type": "stream",
     "text": [
      "Altitude = 39.7 deg, Azimuth = 177.6 deg\n"
     ]
    }
   ],
   "source": [
    "l = 0.0\n",
    "b = 0.0\n",
    "c = SkyCoord(l, b, frame='galactic', unit='deg')\n",
    "altaz = c.transform_to(AltAz(obstime=Time(now, scale='utc'), location=here))\n",
    "print('Altitude = {0:4.1f}, Azimuth = {1:5.1f}'.format(altaz.alt, altaz.az))"
   ]
  },
  {
   "cell_type": "code",
   "execution_count": 9,
   "metadata": {},
   "outputs": [
    {
     "name": "stdout",
     "output_type": "stream",
     "text": [
      "Altitude = -74.1 deg, Azimuth =   1.8 deg\n"
     ]
    }
   ],
   "source": [
    "c = SkyCoord.from_name('Orion', frame='icrs')\n",
    "altaz = c.transform_to(AltAz(obstime=Time(now, scale='utc'), location=here))\n",
    "print('Altitude = {0:4.1f}, Azimuth = {1:5.1f}'.format(altaz.alt, altaz.az))"
   ]
  },
  {
   "cell_type": "code",
   "execution_count": null,
   "metadata": {},
   "outputs": [],
   "source": []
  }
 ],
 "metadata": {
  "kernelspec": {
   "display_name": "Python 3",
   "language": "python",
   "name": "python3"
  },
  "language_info": {
   "codemirror_mode": {
    "name": "ipython",
    "version": 3
   },
   "file_extension": ".py",
   "mimetype": "text/x-python",
   "name": "python",
   "nbconvert_exporter": "python",
   "pygments_lexer": "ipython3",
   "version": "3.8.3"
  }
 },
 "nbformat": 4,
 "nbformat_minor": 4
}
