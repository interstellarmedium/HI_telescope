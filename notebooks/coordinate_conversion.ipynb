{
 "cells": [
  {
   "cell_type": "markdown",
   "metadata": {},
   "source": [
    "# examples of converting between az/el to sky position\n",
    "### https://docs.astropy.org/en/stable/coordinates/index.html\n",
    "#### 1/10/22 jpw"
   ]
  },
  {
   "cell_type": "code",
   "execution_count": 1,
   "metadata": {},
   "outputs": [],
   "source": [
    "from astropy import units as u\n",
    "from astropy.time import Time\n",
    "from datetime import datetime\n",
    "from astropy.coordinates import SkyCoord, EarthLocation, AltAz, get_sun"
   ]
  },
  {
   "cell_type": "code",
   "execution_count": 2,
   "metadata": {},
   "outputs": [],
   "source": [
    "# enter your observing location and time here\n",
    "here = EarthLocation(lat=21.3036944*u.deg, lon=-157.8116667*u.deg, height=372*u.m)\n",
    "now = '2022-01-07 21:00'\n",
    "now = Time(datetime.now(), scale='utc') + 10*u.hour"
   ]
  },
  {
   "cell_type": "markdown",
   "metadata": {},
   "source": [
    "### convert from telescope azimuth and elevation (altitude) to sky position in galactic coordinates"
   ]
  },
  {
   "cell_type": "code",
   "execution_count": 3,
   "metadata": {},
   "outputs": [
    {
     "name": "stdout",
     "output_type": "stream",
     "text": [
      "l = 120.0 deg, b = -16.6 deg\n"
     ]
    }
   ],
   "source": [
    "`alt = 45\n",
    "az = 45\n",
    "c = SkyCoord(alt=alt, az=az, frame='altaz', unit='deg', obstime=Time(now, scale='utc'), location=here)\n",
    "gal = c.galactic\n",
    "print('l = {0:5.1f}, b = {1:4.1f}'.format(gal.l, gal.b))"
   ]
  },
  {
   "cell_type": "markdown",
   "metadata": {},
   "source": [
    "### tells you where to point the telescope to observe a given galactic sky position"
   ]
  },
  {
   "cell_type": "code",
   "execution_count": 7,
   "metadata": {},
   "outputs": [
    {
     "name": "stdout",
     "output_type": "stream",
     "text": [
      "Azimuth = 244.3 deg, Elevation =  43.3 deg\n"
     ]
    }
   ],
   "source": [
    "l = 30.0\n",
    "b = 0.0\n",
    "c = SkyCoord(l, b, frame='galactic', unit='deg')\n",
    "altaz = c.transform_to(AltAz(obstime=Time(now, scale='utc'), location=here))\n",
    "print('Azimuth = {0:4.1f}, Elevation = {1:5.1f}'.format(altaz.az, altaz.alt))"
   ]
  },
  {
   "cell_type": "code",
   "execution_count": 9,
   "metadata": {},
   "outputs": [
    {
     "name": "stdout",
     "output_type": "stream",
     "text": [
      "Azimuth = 244.3 deg, Elevation =  43.3 deg\n"
     ]
    }
   ],
   "source": [
    "# good position for cold calibration (weak HI)\n",
    "l_cold = 150.0\n",
    "b_cold = 55.0\n",
    "c = SkyCoord(l, b, frame='galactic', unit='deg')\n",
    "altaz = c.transform_to(AltAz(obstime=Time(now, scale='utc'), location=here))\n",
    "print('Azimuth = {0:4.1f}, Elevation = {1:5.1f}'.format(altaz.az, altaz.alt))"
   ]
  },
  {
   "cell_type": "markdown",
   "metadata": {},
   "source": [
    "### tells you where to point the telescope to observe a given equatorial sky position"
   ]
  },
  {
   "cell_type": "code",
   "execution_count": 8,
   "metadata": {},
   "outputs": [
    {
     "name": "stdout",
     "output_type": "stream",
     "text": [
      "Azimuth = 83.3 deg, Elevation = -31.1 deg\n"
     ]
    }
   ],
   "source": [
    "c = SkyCoord.from_name('Orion', frame='icrs')\n",
    "altaz = c.transform_to(AltAz(obstime=Time(now, scale='utc'), location=here))\n",
    "print('Azimuth = {0:4.1f}, Elevation = {1:5.1f}'.format(altaz.az, altaz.alt))\n",
    "# in this example, Orion is below the horizon and can't be observed at this time!"
   ]
  },
  {
   "cell_type": "code",
   "execution_count": null,
   "metadata": {},
   "outputs": [],
   "source": []
  }
 ],
 "metadata": {
  "kernelspec": {
   "display_name": "Python 3",
   "language": "python",
   "name": "python3"
  },
  "language_info": {
   "codemirror_mode": {
    "name": "ipython",
    "version": 3
   },
   "file_extension": ".py",
   "mimetype": "text/x-python",
   "name": "python",
   "nbconvert_exporter": "python",
   "pygments_lexer": "ipython3",
   "version": "3.8.3"
  }
 },
 "nbformat": 4,
 "nbformat_minor": 4
}
