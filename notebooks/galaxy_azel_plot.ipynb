{
 "cells": [
  {
   "cell_type": "markdown",
   "metadata": {},
   "source": [
    "# Plot the Galactic plane in az/el from a given location on a given date\n",
    "#### 1/7/22 jpw\n",
    "#### uses https://docs.astropy.org/en/stable/generated/examples/coordinates/plot_obs-planning.html#sphx-glr-generated-examples-coordinates-plot-obs-planning-py"
   ]
  },
  {
   "cell_type": "code",
   "execution_count": 1,
   "metadata": {
    "executionInfo": {
     "elapsed": 264,
     "status": "ok",
     "timestamp": 1625786245067,
     "user": {
      "displayName": "Jared Lo",
      "photoUrl": "https://lh3.googleusercontent.com/a-/AOh14GhbM7sxXj86egWq9xcG0VQeXlxAifWVo9w0PJ64NQ=s64",
      "userId": "14342003041324412866"
     },
     "user_tz": 600
    },
    "id": "UOqInJZTuw4X"
   },
   "outputs": [],
   "source": [
    "import matplotlib.pyplot as plt\n",
    "import numpy as np\n",
    "import os, glob\n",
    "from astropy import units as u\n",
    "from astropy.time import Time\n",
    "from astropy.coordinates import SkyCoord, EarthLocation, AltAz, get_sun\n",
    "from datetime import datetime\n",
    "%matplotlib inline"
   ]
  },
  {
   "cell_type": "code",
   "execution_count": 2,
   "metadata": {},
   "outputs": [],
   "source": [
    "# location of mural in academy quad (from google earth)\n",
    "# west longitudes are negative\n",
    "here = EarthLocation(lat=21.3036944*u.deg, lon=-157.8116667*u.deg, height=372*u.m)\n",
    "utcoffset = -10*u.hour  # relative to Universal Time (= GMT)"
   ]
  },
  {
   "cell_type": "markdown",
   "metadata": {},
   "source": [
    "# Set the local time and date here manually"
   ]
  },
  {
   "cell_type": "code",
   "execution_count": 3,
   "metadata": {},
   "outputs": [],
   "source": [
    "local_time = '2022-01-07 11:00'\n",
    "#local_time = ''\n",
    "\n",
    "# but if you don't set it, e.g. local_time='', then use the time when you run the program\n",
    "if len(local_time) == 0:\n",
    "    local_time = datetime.now()\n",
    "\n",
    "savefig = True\n",
    "fileout = 'Galaxy_AzEl_'+str(local_time).replace(' ','_').replace(':','')[:15]+'.png'"
   ]
  },
  {
   "cell_type": "code",
   "execution_count": 4,
   "metadata": {},
   "outputs": [],
   "source": [
    "t = Time(local_time, scale='utc') - utcoffset\n",
    "l = np.arange(-180,181,5)\n",
    "nl = l.size\n",
    "alt = np.zeros(nl)\n",
    "az =  np.zeros(nl)\n",
    "for i in range(nl):\n",
    "    c = SkyCoord(l[i], 0, frame='galactic', unit='deg')\n",
    "    altaz = c.transform_to(AltAz(obstime=t, location=here))\n",
    "    #print(f\"Alt/Az = {altaz.alt:.2}, {altaz.az:.2}\")\n",
    "    alt[i] = altaz.alt / u.deg\n",
    "    az[i]  = altaz.az / u.deg"
   ]
  },
  {
   "cell_type": "code",
   "execution_count": 5,
   "metadata": {},
   "outputs": [],
   "source": [
    "altaz_sun = get_sun(t).transform_to(AltAz(obstime=t, location=here))"
   ]
  },
  {
   "cell_type": "code",
   "execution_count": 6,
   "metadata": {},
   "outputs": [
    {
     "name": "stdout",
     "output_type": "stream",
     "text": [
      "Plot saved to  Galaxy_AzEl_2022-01-07_1100.png\n"
     ]
    },
    {
     "data": {
      "image/png": "[encoded data removed]",
      "text/plain": [
       "<Figure size 864x504 with 1 Axes>"
      ]
     },
     "metadata": {
      "needs_background": "light"
     },
     "output_type": "display_data"
    }
   ],
   "source": [
    "fig = plt.figure(figsize=(12,7))\n",
    "ax = fig.add_subplot(111)\n",
    "\n",
    "# sort in azimuth to stop wrap around\n",
    "k = np.argsort(az)\n",
    "ax.plot(az[k], alt[k], 'b-', lw=3)\n",
    "ax.plot(altaz_sun.az/u.deg, altaz_sun.alt/u.deg, color='orange', marker='*', ms=20)\n",
    "ax.set_xlim(0, 360)\n",
    "ax.set_ylim(0, 90)\n",
    "ax.set_xlabel('Azimuth (deg)')\n",
    "ax.set_ylabel('Elevation (deg)')\n",
    "\n",
    "ax.text(  3, 2, 'N', fontsize=20, fontweight='bold', ha='left')\n",
    "ax.text( 90, 2, 'E', fontsize=20, fontweight='bold', ha='center')\n",
    "ax.text(180, 2, 'S', fontsize=20, fontweight='bold', ha='center')\n",
    "ax.text(270, 2, 'W', fontsize=20, fontweight='bold', ha='center')\n",
    "ax.text(357, 2, 'N', fontsize=20, fontweight='bold', ha='right')\n",
    "\n",
    "# plot tick marks to show longitude\n",
    "lmarker = np.arange(-180,180,30)\n",
    "for l1 in lmarker:\n",
    "    i = np.argwhere(np.abs(l-l1)<1)[0][0]\n",
    "    ax.plot(az[i], alt[i], 'bo', ms=7)\n",
    "    ax.text(az[i]+3, alt[i], str(l1), fontsize=12, color='blue', clip_on=True)\n",
    "\n",
    "if savefig:\n",
    "    plt.savefig(fileout)\n",
    "    print('Plot saved to ',fileout)"
   ]
  },
  {
   "cell_type": "code",
   "execution_count": null,
   "metadata": {},
   "outputs": [],
   "source": []
  }
 ],
 "metadata": {
  "colab": {
   "collapsed_sections": [],
   "name": "Analysis 6-30 nocalibration.ipynb",
   "provenance": []
  },
  "kernelspec": {
   "display_name": "Python 3",
   "language": "python",
   "name": "python3"
  },
  "language_info": {
   "codemirror_mode": {
    "name": "ipython",
    "version": 3
   },
   "file_extension": ".py",
   "mimetype": "text/x-python",
   "name": "python",
   "nbconvert_exporter": "python",
   "pygments_lexer": "ipython3",
   "version": "3.8.3"
  }
 },
 "nbformat": 4,
 "nbformat_minor": 5
}
